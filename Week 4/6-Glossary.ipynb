{
 "cells": [
  {
   "cell_type": "markdown",
   "metadata": {},
   "source": [
    "| Term                           | Definition                                                                                                                | Dịch Tiếng Việt                                               |\n",
    "|--------------------------------|---------------------------------------------------------------------------------------------------------------------------|--------------------------------------------------------------|\n",
    "| Access group                   | A group of users and service IDs is created so that the same access can be assigned to all entities within the group with one or more access policies | Nhóm người dùng và ID dịch vụ được tạo để có thể gán cùng một quyền truy cập cho tất cả các thực thể trong nhóm với một hoặc nhiều chính sách truy cập. |\n",
    "| Administrative users            | Create, update, and delete application and service instances, and need insight into their team members’ activities          | Người dùng quản trị tạo, cập nhật và xóa các trường hợp ứng dụng và dịch vụ, và cần cái nhìn sâu sắc về hoạt động của đồng đội của họ. |\n",
    "| API keys                        | Unique identifiers are passed into an API to identify calling application or user                                      | Khóa API là các định danh duy nhất được truyền vào một API để xác định ứng dụng hoặc người dùng gọi.                       |\n",
    "| Application Performance Monitoring (APM) | Measures application availability and performance, providing tools needed to troubleshoot issues in an application's environment | Đo lường sẵn có và hiệu suất ứng dụng, cung cấp các công cụ cần thiết để xử lý sự cố trong môi trường của một ứng dụng. |\n",
    "| Application users               | Users of the cloud-hosted applications                                                                                     | Người dùng của các ứng dụng được lưu trữ trên đám mây.        |\n",
    "| AppSec                         | Application Security                                                                                                     | An toàn Ứng dụng                                            |\n",
    "| Audit and compliance            | A critical service within identity and access framework used to validate implemented controls against policies               | Dịch vụ quan trọng trong khuôn khổ danh tính và truy cập được sử dụng để xác nhận các kiểm soát thực hiện được so với các chính sách. |\n",
    "| Authentication                 | Also known as identity service, it enables applications deployed to the cloud to authenticate users at an application level | Còn được biết đến là dịch vụ xác nhận danh tính, nó cho phép các ứng dụng triển khai trên đám mây xác thực người dùng ở mức ứng dụng. |\n",
    "| BYOK                           | Bring Your Own Keys                                                                                                       | Mang theo Khóa của Bạn                                     |\n",
    "| Client-side encryption          | Occurs before data is sent to cloud storage                                                                              | Xảy ra trước khi dữ liệu được gửi đến lưu trữ đám mây.        |\n",
    "| Cloud directory services        | Used to securely manage user profiles and associated credentials inside a cloud environment                                | Được sử dụng để quản lý một cách an toàn hồ sơ người dùng và thông tin đăng nhập liên quan bên trong môi trường đám mây. |\n",
    "| Cloud encryption                | Also known as the last line of defense, it encrypts data and provides robust data access control, key management, and certificate management | Còn được biết đến là tuyến cuối cùng của phòng thủ, mã hóa dữ liệu và cung cấp kiểm soát truy cập dữ liệu mạnh mẽ, quản lý khóa và quản lý chứng chỉ. |\n",
    "| Cloud monitoring solutions      | Assess data, application, and infrastructure behaviors for performance, resource allocation, network availability, compliance, and security risks and threats | Đánh giá hành vi dữ liệu, ứng dụng và cơ sở hạ tầng để đảm bảo hiệu suất, phân phối tài nguyên, khả dụng mạng, tuân thủ và rủi ro bảo mật. |\n",
    "| Cloud security                  | Policies, technological procedures, services, and solutions designed to secure the enterprise applications and data on the cloud against insider threats, data breaches, compliance issues, and organized security threats | Chính sách, quy trình công nghệ, dịch vụ và giải pháp được thiết kế để bảo vệ các ứng dụng doanh nghiệp và dữ liệu trên đám mây khỏi mối đe dọa từ bên trong, việc xâm phạm dữ liệu, vấn đề tuân thủ và mối đe dọa bảo mật có tổ chức. |\n",
    "| Database monitoring tools       | Help track processes, queries, and availability of services to ensure the accuracy and reliability of database management systems | Hỗ trợ theo dõi các quy trình, truy vấn và khả dụng của dịch vụ để đảm bảo tính chính xác và đáng tin cậy của các hệ thống quản lý cơ sở dữ liệu. |\n",
    "| Decryption key                  | Defines how the encrypted data will be transformed back to legible data                                                   | Xác định cách dữ liệu đã được mã hóa sẽ được chuyển đổi trở lại dạng dữ liệu đọc được.                                |\n",
    "| Developer users                 | Authorized to read sensitive information and to create, update, and delete applications                                    | Được ủy quyền đọc thông tin nhạy cảm và tạo, cập nhật và xóa các ứng dụng.                                             |\n",
    "| Encryption                      | Scrambling data to make it illegible                                                                                   | Làm rối dữ liệu để làm cho nó không đọc được.                |\n",
    "| Encryption algorithm            | Defines the rules by which data will be transformed so that it becomes illegible                                          | Xác định các quy tắc theo đó dữ liệu sẽ được biến đổi để trở nên không đọc được.                                        |\n",
    "| Encryption at rest               | Protecting data while it is stored                                                                                        | Bảo vệ dữ liệu khi nó được lưu trữ.                          |\n",
    "| Encryption in transit            | Protecting data while it is transmitted from one location to another                                                      | Bảo vệ dữ liệu khi nó được truyền từ một vị trí này sang vị trí khác.                                                       |\n",
    "| Encryption in use                | Protecting data when it is in use in memory                                                                              | Bảo vệ dữ liệu khi nó đang được sử dụng trong bộ nhớ.        |\n",
    "| Identity and access management   | Also known as access control, it helps authenticate and authorize users and provides user-specific access to cloud resources, services, and applications | Còn được biết đến là quản lý danh tính và truy cập, nó giúp xác thực và ủy quyền người dùng và cung cấp quyền truy cập cụ thể cho người dùng đối với tài nguyên, dịch vụ và ứng dụng trên đám mây. |\n",
    "| Infrastructure monitoring tools  | Identify minor and large-scale hardware failures and security gaps so that developers and administrators can take corrective action before problems affect user experience | Xác định các sự cố về phần cứng nhỏ và lớn và các khoảng trống bảo mật để nhà phát triển và quản trị viên có thể thực hiện biện pháp sửa lỗi trước khi gặp vấn đề ảnh hưởng đến trải nghiệm người dùng. |\n",
    "| Key management services          | Help perform life cycle management for encryption keys that are used in cloud services or customer-build apps                | Hỗ trợ thực hiện quản lý vòng đời cho các khóa mã hóa được sử dụng trong các dịch vụ đám mây hoặc ứng dụng do khách hàng xây dựng. |\n",
    "| KYOK                           | Keep Your Own Keys                                                                                                       | Giữ Khóa của Bạn                                           |\n",
    "| Multifactor authentication       | Adds an additional layer or authentication for application users                                                       | Thêm một lớp xác nhận bổ sung cho người dùng ứng dụng.         |\n",
    "| Reporting                      | Provides a user-centric view of access to resources                                                                      | Cung cấp một cái nhìn theo hướng người dùng về quyền truy cập đến tài nguyên.                                               |\n",
    "| Server-side encryption           | Occurs after cloud storage receives your data but before the data is written to disk and stored                             | Xảy ra sau khi lưu trữ đám mây nhận dữ liệu của bạn nhưng trước khi dữ liệu được ghi vào đĩa và lưu trữ.                     |\n",
    "| SSL                            | Secure Sockets Layer                                                                                                     | Lớp Ổ Cắm An Toàn                                       |\n",
    "| TLS                            | Transport Layer Security                                                                                                | Bảo mật Tầng Vận Chuyển                                  |\n",
    "| User and service access management capability | Enables cloud application and service owners to provision and de-provision user profiles with minimal human interaction | Cho phép chủ sở hữu ứng dụng và dịch vụ trên đám mây cung cấp và hủy bỏ hồ sơ người dùng một cách tự động với sự tương tác tối thiểu từ con người. |\n"
   ]
  }
 ],
 "metadata": {
  "language_info": {
   "name": "python"
  }
 },
 "nbformat": 4,
 "nbformat_minor": 2
}
