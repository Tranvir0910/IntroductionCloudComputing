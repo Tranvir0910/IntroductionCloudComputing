{
 "cells": [
  {
   "cell_type": "markdown",
   "metadata": {},
   "source": [
    "#### **CDN là gì?**\n",
    "\n",
    "*Mạng phân phối nội dung (CDN)* là một mạng lưới máy chủ kết nối nhau, nhằm tối ưu hóa tốc độ tải trang web cho các ứng dụng tiêu tốn nhiều dữ liệu. CDN là viết tắt của \"mạng phân phối nội dung\" hoặc \"mạng phân bổ nội dung.\" Khi người dùng truy cập một trang web, dữ liệu từ máy chủ của trang web đó phải di chuyển qua Internet để đến máy tính của họ. Nếu người dùng ở xa máy chủ, việc tải các tệp lớn như video hay hình ảnh có thể mất nhiều thời gian. CDN giúp giảm thời gian này bằng cách lưu trữ nội dung trang web gần với vị trí của người dùng.\n",
    "\n"
   ]
  },
  {
   "cell_type": "markdown",
   "metadata": {},
   "source": [
    "#### **Vai trò quan trọng của CDN:**\n",
    "\n",
    "Mục đích chính của CDN là giảm độ trễ và thời gian chờ trong giao tiếp web. Vì mạng Internet toàn cầu và phức tạp, giao tiếp giữa máy chủ và người dùng cần di chuyển qua một khoảng cách lớn. CDN giúp quản lý giao tiếp, giảm lượng truy cập web đến máy chủ gốc, tiết kiệm băng thông và cải thiện trải nghiệm người dùng.\n",
    "\n"
   ]
  },
  {
   "cell_type": "markdown",
   "metadata": {},
   "source": [
    "#### **Lợi ích của CDN:**\n",
    "\n",
    "1. *Giảm thời gian tải trang:* CDN giảm tỷ lệ thoát và tăng thời gian mà người dùng dành cho trang web.\n",
    "  \n",
    "2. *Giảm chi phí băng thông:* Giúp giảm chi phí lưu trữ cho chủ sở hữu trang web bằng cách tối ưu hóa dữ liệu.\n",
    "  \n",
    "3. *Tăng tính sẵn có của nội dung:* Xử lý được nhiều lưu lượng truy cập hơn, giảm tải cho máy chủ web và đảm bảo dịch vụ liên tục.\n",
    "\n",
    "4. *Cải thiện khả năng bảo mật:* Đối phó với cuộc tấn công DDoS và phân phối tải giữa nhiều máy chủ, bảo vệ trang web khỏi sự gián đoạn.\n",
    "\n"
   ]
  },
  {
   "cell_type": "markdown",
   "metadata": {},
   "source": [
    "#### **CDN có thể phân phối nội dung nào qua mạng Internet?**\n",
    "\n",
    "*Mạng phân phối nội dung (CDN)* có thể phân phối hai loại nội dung chính: nội dung tĩnh và nội dung động.\n",
    "\n",
    "1. **Nội dung tĩnh:**\n",
    "   - Dữ liệu không thay đổi cho mọi người dùng và bao gồm hình ảnh, biểu trưng, kiểu phông chữ của trang web.\n",
    "   - Lưu trữ trên CDN là lựa chọn hiệu quả vì không cần tạo, xử lý hoặc sửa đổi nội dung này.\n",
    "\n",
    "2. **Nội dung động:**\n",
    "   - Dữ liệu thay đổi tùy thuộc vào người dùng, ví dụ như tin tức, trạng thái đăng nhập, và tin nhắn trò chuyện.\n",
    "   - Yêu cầu tương tác và xử lý đặc biệt, thường phải kết nối lại với máy chủ gốc.\n",
    "\n"
   ]
  },
  {
   "cell_type": "markdown",
   "metadata": {},
   "source": [
    "#### **CDN hoạt động như thế nào?**\n",
    "\n",
    "*Mạng phân phối nội dung (CDN)* hoạt động dựa trên các nguyên tắc của lưu bộ nhớ đệm, tăng tốc động và tính toán logic biên.\n",
    "\n",
    "1. **Lưu bộ nhớ đệm:**\n",
    "   - Lưu trữ nhiều bản sao của dữ liệu tĩnh trên nhiều máy chủ gần người dùng.\n",
    "   - Máy chủ CDN lưu trữ bản sao trong bộ nhớ đệm và phản hồi nhanh chóng cho yêu cầu tương lai.\n",
    "\n",
    "2. **Tăng tốc động:**\n",
    "   - Máy chủ CDN trung gian giữa máy khách và máy chủ giúp giảm thời gian phản hồi cho yêu cầu về nội dung động.\n",
    "   - Tối ưu hóa kết nối giữa máy chủ CDN và máy chủ gốc.\n",
    "\n",
    "3. **Tính toán logic biên:**\n",
    "   - Máy chủ biên CDN thực hiện các phép tính logic để đơn giản hóa giao tiếp giữa máy khách và máy chủ.\n",
    "   - Xử lý yêu cầu, kiểm tra tính xác minh và tối ưu hóa nội dung trước khi phản hồi.\n",
    "\n"
   ]
  },
  {
   "cell_type": "markdown",
   "metadata": {},
   "source": [
    "#### **Công dụng của CDN:**\n",
    "\n",
    "1. *Phân phối nội dung tốc độ cao:* Kết hợp phân phối nội dung tĩnh và động để mang lại trải nghiệm toàn cầu, hiệu suất cao trên toàn bộ trang web.\n",
    "\n",
    "2. *Truyền phát trực tuyến theo thời gian thực:* Hỗ trợ phân phối tệp phương tiện chất lượng cao và đa dạng một cách hiệu quả.\n",
    "\n",
    "3. *Mở rộng quy mô người dùng:* Giúp quản lý số lượng người dùng đồng thời lớn một cách linh hoạt.\n",
    "\n",
    "*Ví dụ: Hulu, Reuters, và King sử dụng CDN để cải thiện trải nghiệm người dùng, giảm chi phí, và mở rộng quy mô.*\n"
   ]
  }
 ],
 "metadata": {
  "language_info": {
   "name": "python"
  }
 },
 "nbformat": 4,
 "nbformat_minor": 2
}
