{
 "cells": [
  {
   "cell_type": "markdown",
   "metadata": {},
   "source": [
    "### **Module 3 Glossary: Components of Cloud Computing**"
   ]
  },
  {
   "cell_type": "markdown",
   "metadata": {},
   "source": [
    "| Term                  | Definition                                                                                                  | Dịch Tiếng Việt                                            |\n",
    "|-----------------------|-------------------------------------------------------------------------------------------------------------|-------------------------------------------------------------|\n",
    "| ACL                   | Access Control Lists                                                                                        | Danh sách Kiểm soát Truy cập                                 |\n",
    "| AZ                    | Availability Zones are distinct Data Centers with their own power, cooling and networking resources...     | Zone Sẵn Có là các Trung tâm Dữ liệu riêng biệt với...       |\n",
    "| Bare-metal hypervisor | Installed directly on top of the physical server. They're more secure, have lower latency...               | Hypervisor trên Kim loại thuần túy được cài đặt trực...      |\n",
    "| Block storage         | Is presented to compute nodes using high-speed fiber connections, which means that read and write...     | Lưu trữ Khối được trình bày cho các nút tính toán bằng...    |\n",
    "| CDNs                  | Content Delivery Networks is a distributed server network that delivers temporarily stored, or cached... | Mạng phân phối Nội dung là một mạng máy chủ phân tán...      |\n",
    "| Cloud Region          | A geographic area or location where a Cloud provider’s infrastructure is clustered, and may have names... | Khu vực Đám Mây là một khu vực địa lý hoặc vị trí...          |\n",
    "| Containers            | Are an executable unit of software in which application code is packaged, along with its libraries and... | Containers là một đơn vị thực thi của phần mềm trong...      |\n",
    "| Data center           | A huge room or a warehouse containing cloud infrastructure                                                 | Trung tâm Dữ liệu là một phòng lớn hoặc một kho...          |\n",
    "| Dedicated hosts       | Offer single-tenant isolation                                                                              | Địa bàn chủ được dành cho việc cô lập đơn thuần...        |\n",
    "| Direct Attached storage| Or Local storage is storage which is presented directly to a cloud-based server and is effectively either...| Lưu trữ Đính Kèm Trực tiếp hay Lưu trữ Cục bộ là...        |\n",
    "| File storage          | Is typically presented to compute nodes as ‘NFS Storage’. NFS stands for Network File System and means...    | Lưu trữ Tệp thường được trình bày cho các nút tính...        |\n",
    "| Hosted hypervisor     | There's a layer of host OS between the physical server and the hypervisor. These hypervisors are less...    | Hypervisor được Lưu trữ có một lớp Hệ điều hành máy...      |\n",
    "| HPC                   | High-performance computing                                                                                 | Tính Toán Hiệu Năng Cao                                      |\n",
    "| Hypervisor            | A piece of software that runs above the physical server or host                                           | Hypervisor là một phần mềm chạy trên máy chủ hoặc...      |\n",
    "| IOPS                  | Input/Output Operations Per Second and refers to the speed at which the disks can write and read data...   | IOPS là Việc Thực hiện Phép Toán Đầu Vào/Đầu Ra Mỗi...        |\n",
    "| NFS                   | Network File Storage                                                                                       | Lưu trữ Tệp Mạng                                            |\n",
    "| Object storage        | Storage not attached to a compute node, rather it is accessed via an API                                 | Lưu trữ Đối tượng không gắn liền với một nút tính...         |\n",
    "| Reserved virtual server| Instances allow you to reserve capacity and guarantee resources for future deployments...                   | Máy chủ ảo Được Đặt Trước cho phép bạn đặt trước...         |\n",
    "| SDN                   | Software Defined Networking                                                                               | Mạng Được Định nghĩa Bằng Phần Mềm                           |\n",
    "| Shared or Public Cloud VMs | Are provider-managed, multi-tenant deployments that can be provisioned on-demand with predefined sizes... | VM Đám Mây Chia sẻ hoặc Công cộng được quản lý bởi...       |\n",
    "| Transient or Spot VMs | Take advantage of unused capacity in a cloud data center...                                                | VM Tạm thời hoặc VM Spot tận dụng công suất chưa sử...       |\n",
    "| Virtualization        | Process of creating a software-based or virtual version of something whether that be compute, storage...  | Ảo hóa là quá trình tạo ra một phiên bản phần mềm hoặc...  |\n",
    "| VLANs                 | Virtual Local Area Networks                                                                               | VLAN (Mạng Diện Rộng Cục Bộ Ảo)                               |\n",
    "| VM                    | Virtual machines are software-based computers, based on virtualization technologies                        | VM (Máy Ảo) là máy tính dựa trên phần mềm, dựa trên...        |\n",
    "| VPC                   | Virtual Private Cloud                                                                                     | VPC (Đám Mây Riêng Ảo)                                       |\n",
    "| VPN                   | Virtual Private Networks                                                                                   | VPN (Mạng Riêng Ảo)                                          |\n"
   ]
  }
 ],
 "metadata": {
  "language_info": {
   "name": "python"
  }
 },
 "nbformat": 4,
 "nbformat_minor": 2
}
