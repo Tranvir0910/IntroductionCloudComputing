{
 "cells": [
  {
   "cell_type": "markdown",
   "metadata": {},
   "source": [
    "### **Module 2 Glossary: Cloud Computing Models**"
   ]
  },
  {
   "cell_type": "markdown",
   "metadata": {},
   "source": [
    "| Term                | Definition                                                                                                                                                     | Dịch Tiếng Việt                                                                           |\n",
    "|---------------------|----------------------------------------------------------------------------------------------------------------------------------------------------------------|--------------------------------------------------------------------------------------------|\n",
    "| BPM                 | Business Process Management                                                                                                                                   | Quản lý Quy trình Kinh doanh                                                              |\n",
    "| Composite multicloud | A variant of hybrid multicloud, distributes single applications across multiple providers, allowing you to move application components across cloud services and vendors as needed | Một biến thể của đám mây đa hỗn hợp, phân phối các ứng dụng đơn lẻ qua nhiều nhà cung cấp, cho phép bạn di chuyển các thành phần ứng dụng qua các dịch vụ và nhà cung cấp đám mây theo nhu cầu |\n",
    "| CRM                 | Customer Relationship Management                                                                                                                              | Quản lý Mối quan hệ Khách hàng                                                          |\n",
    "| HCM                 | Human Capital Management                                                                                                                                      | Quản lý Vốn Nhân Sự                                                                      |\n",
    "| Hybrid cloud        | A computing environment that connects an organization’s on-premises private cloud and third-party public cloud into a single, flexible infrastructure for running the organization’s applications and workloads | Một môi trường máy tính kết nối đám mây riêng tư tại chỗ và đám mây công cộng của bên thứ ba thành một cơ sở hạ tầng linh hoạt duy nhất để chạy ứng dụng và công việc của tổ chức |\n",
    "| Hybrid monocloud    | A hybrid cloud with one cloud provider                                                                                                                        | Một đám mây hỗn hợp với một nhà cung cấp đám mây                                        |\n",
    "| Hybrid multicloud   | An open standards-based stack that can be deployed on any public cloud infrastructure                                                                           | Một ngăn xếp dựa trên tiêu chuẩn mở có thể triển khai trên bất kỳ cơ sở hạ tầng đám mây công cộng nào |\n",
    "| IaaS                | Infrastructure as a Service is a form of cloud computing that delivers fundamental compute, network, and storage resources to consumers on-demand, over the network, on a pay-as-you-go basis | Cơ sở hạ tầng như Dịch vụ là một hình thức của đám mây tính toán cung cấp tài nguyên tính toán, mạng và lưu trữ cơ bản cho người tiêu dùng theo yêu cầu, qua mạng, trên cơ sở thanh toán theo nhu cầu |\n",
    "| IoT                 | Internet of Things                                                                                                                                            | Internet của Mọi Vật                                                                      |\n",
    "| MDM                 | Master Data Management                                                                                                                                        | Quản lý Dữ liệu Chính                                                                     |\n",
    "| PaaS                | Platform as a Service is a cloud computing model that provides customers a complete platform—hardware, software, and infrastructure—to develop, deploy, manage, and run applications created by them or acquired from a third-party | Nền tảng như Dịch vụ là mô hình đám mây cung cấp cho khách hàng một nền tảng đầy đủ - phần cứng, phần mềm và cơ sở hạ tầng - để phát triển, triển khai, quản lý và chạy các ứng dụng do họ tạo ra hoặc mua từ bên thứ ba |\n",
    "| Pay-as-you-go       | Users can order cloud resources from a larger pool of available resources and pay for them on a per-use basis                                                    | Người dùng có thể đặt tài nguyên đám mây từ một hồ bơi tài nguyên lớn và thanh toán theo cơ sở sử dụng |\n",
    "| Private Cloud       | Cloud infrastructure provisioned for exclusive use by a single organization comprising multiple consumers, such as the business units within the organization       | Cơ sở hạ tầng đám mây được cấu hình để sử dụng độc quyền bởi một tổ chức duy nhất bao gồm nhiều người tiêu dùng, chẳng hạn như các đơn vị kinh doanh trong tổ chức |\n",
    "| Public cloud        | Users get access to servers, storage, network, security, and applications as services delivered by cloud service providers over the internet                        | Người dùng có quyền truy cập vào máy chủ, lưu trữ, mạng, bảo mật và ứng dụng như các dịch vụ được cung cấp bởi các nhà cung cấp dịch vụ đám mây qua internet |\n",
    "| SaaS                | Software as a Service is a cloud offering that provides users with access to a service provider’s cloud-based software                                            | Phần mềm như Dịch vụ là một dịch vụ đám mây cung cấp người dùng quyền truy cập vào phần mềm của nhà cung cấp dịch vụ trên đám mây |\n",
    "| SIP                 | SaaS integration platforms                                                                                                                                    | Nền tảng tích hợp như Dịch vụ                                                            |\n",
    "| TCO                 | Total cost for ownership                                                                                                                                      | Tổng chi phí sở hữu                                                                       |\n",
    "| VM                  | Virtual machine                                                                                                                                               | Máy ảo                                                                                    |\n",
    "| VPC                 | Virtual Private Cloud                                                                                                                                        | Đám Mây Riêng Ảo                                                                          |\n"
   ]
  }
 ],
 "metadata": {
  "language_info": {
   "name": "python"
  }
 },
 "nbformat": 4,
 "nbformat_minor": 2
}
