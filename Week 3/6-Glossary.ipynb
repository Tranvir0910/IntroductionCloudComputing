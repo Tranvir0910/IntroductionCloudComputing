{
 "cells": [
  {
   "cell_type": "markdown",
   "metadata": {},
   "source": [
    "### **Module 4 Glossary: Emergent Trends and Practices**"
   ]
  },
  {
   "cell_type": "markdown",
   "metadata": {},
   "source": [
    "| Term                   | Definition                                                                                           | Dịch Tiếng Việt                          |\n",
    "|------------------------|-------------------------------------------------------------------------------------------------------|-------------------------------------------|\n",
    "| API                    | Application Programming Interface                                                                   | Giao diện Lập trình Ứng dụng              |\n",
    "| Application modernization | Helps organizations accelerate their digital transformation, take advantage of new technologies and services, and become more responsive to changing market dynamics | Hiện đại hóa ứng dụng                    |\n",
    "| Cloud native application | An application developed from the outset to work only in the cloud environment, or an existing app that has been refactored and reconfigured with cloud native principles | Ứng dụng nguyên gốc trên đám mây        |\n",
    "| Continuous delivery    | Delivering small, well-designed, high-quality increments of software to customers                      | Phân phối liên tục                      |\n",
    "| Continuous deployment  | Progressing each new packaged build through the deployment lifecycle as rapidly as possible           | Triển khai liên tục                     |\n",
    "| Continuous integration | Creating packaged builds of the code changes released as immutable images                              | Tích hợp liên tục                       |\n",
    "| Continuous monitoring  | Monitoring with tools that help developers understand the performance and availability of their applications, even before they’re deployed to production | Giám sát liên tục                      |\n",
    "| Delivery pipeline      | An automated sequence of steps that involves the stages of Ideation, Coding, Building, Deploying, Managing, and Continuous Improvement | Đường ống phân phối                     |\n",
    "| DevOps                 | Collaborative approach where business owners and the development, operations, and quality assurance teams collaborate to continuously deliver software | DevOps                                  |\n",
    "| Hybrid multicloud      | An open standards-based stack that can be deployed on any public cloud infrastructure                  | Đa đám mây hỗn hợp                       |\n",
    "| Microservices          | Break down large applications into their core functions                                              | Microservices                           |\n",
    "| Microservices architecture | Approach in which a single application is composed of many loosely coupled and independently deployable, smaller components or services | Kiến trúc Microservices                 |\n",
    "| Monolithic architecture | Approach in which a single application is built out of one piece of software                           | Kiến trúc Monolithic                    |\n",
    "| Serverless             | Approach to computing that offloads responsibility for common infrastructure management tasks          | Serverless                              |\n",
    "| Service discovery      | Creates a roadmap for microservices to communicate                                                    | Phát hiện dịch vụ                      |\n"
   ]
  }
 ],
 "metadata": {
  "language_info": {
   "name": "python"
  }
 },
 "nbformat": 4,
 "nbformat_minor": 2
}
